{
 "cells": [
  {
   "cell_type": "code",
   "execution_count": 6,
   "id": "ce543a4c",
   "metadata": {},
   "outputs": [],
   "source": [
    "import pandas as pd\n",
    "from matplotlib import pyplot as plt"
   ]
  },
  {
   "cell_type": "code",
   "execution_count": 18,
   "id": "298e9cb8",
   "metadata": {},
   "outputs": [],
   "source": [
    "class Labeller:\n",
    "    #Aumi's audio labellers\n",
    "    \n",
    "    def __init__(self, name):\n",
    "        self.name = name\n",
    "        self.stations = []\n",
    "\n",
    "        print(self.name, \"has been added\")\n",
    "        \n",
    "    def to_dict(self):\n",
    "        return{\n",
    "            \"Name\": self.name,\n",
    "            \"Stations\": self.stations\n",
    "        }\n",
    "\n",
    "    def add_station(self, station):\n",
    "        self.stations.append(station)\n",
    "        print(self.stations[len(self.stations)-1].name, \"added to labeller \", self.name)\n",
    "    \n",
    "class Station:\n",
    "    #Audio monitoring stations\n",
    "    \n",
    "    def __init__(self, name):\n",
    "        self.name = name\n",
    "        self.events = []\n",
    "        self.time = 0\n",
    "    \n",
    "    def to_dict(self):\n",
    "        return{\n",
    "            \"Name\": self.name,\n",
    "            \"Events\": self.events,\n",
    "            \"Time\": self.time\n",
    "        }\n",
    "    \n",
    "    def add_event(self, event):\n",
    "        self.events.append(event)\n",
    "        print (self.events[len(self.events)-1].name, \"added to station \", self.name)\n",
    "    \n",
    "class Event:\n",
    "    #Events registrered in stations\n",
    "    \n",
    "    def __init__(self, name):\n",
    "        self.name = name\n",
    "        self.time = 0\n",
    "        self.counter = 0\n",
    "    \n",
    "    def to_dict(self):\n",
    "        return{\n",
    "            \"Name\": self.name,\n",
    "            \"Time\": self.time,\n",
    "            \"Counter\": self.counter\n",
    "        }\n",
    "        "
   ]
  },
  {
   "cell_type": "code",
   "execution_count": 30,
   "id": "e3c0a8f3",
   "metadata": {},
   "outputs": [],
   "source": [
    "#lecture of metadata and acts as a getter of future objects names, as a defaul, this func will metadata1_4.txt\n",
    "#in the same folder of proyect\n",
    "def catego_reader():\n",
    "    #txt reader\n",
    "    cs = pd.read_csv(\"metadata1_4.txt\", sep=\"\\t\", engine = \"python\")\n",
    "    \n",
    "    #get unique names from columns\n",
    "    lab = df.labeller.unique()\n",
    "    est = df.station.unique()\n",
    "    evt = df.kind.unique()\n",
    "    \n",
    "    #return table and uniques names of columns labeller, station and kind, last one changued from class due conflicts\n",
    "    return cs, lab, est, evt\n",
    "\n",
    "\n",
    "#creation of instances of Labeller from a list of names, returns a list of objects Labeller \n",
    "def lab_creator(names):\n",
    "    labellers = []\n",
    "    labellers.clear()\n",
    "    \n",
    "    for n in names:\n",
    "        labellers.append(Labeller(n))\n",
    "    \n",
    "    return labellers\n",
    "    "
   ]
  },
  {
   "cell_type": "code",
   "execution_count": 31,
   "id": "56c8fd45",
   "metadata": {},
   "outputs": [
    {
     "name": "stdout",
     "output_type": "stream",
     "text": [
      "Hakim_M has been added\n",
      "Rafael_P has been added\n",
      "Esteban_G has been added\n",
      "Cristian_C has been added\n",
      "Esteban_V has been added\n",
      "Diego_E has been added\n"
     ]
    }
   ],
   "source": [
    "cs, lab, st, evt = catego_reader()\n",
    "\n",
    "labellers = lab_creator(lab)"
   ]
  },
  {
   "cell_type": "code",
   "execution_count": 33,
   "id": "e513c444",
   "metadata": {},
   "outputs": [
    {
     "data": {
      "text/plain": [
       "[<__main__.Labeller at 0x165d1cce460>,\n",
       " <__main__.Labeller at 0x165d0b70fd0>,\n",
       " <__main__.Labeller at 0x165d1d736a0>,\n",
       " <__main__.Labeller at 0x165d0b7eb80>,\n",
       " <__main__.Labeller at 0x165d0b7e5b0>,\n",
       " <__main__.Labeller at 0x165d0b7e0a0>]"
      ]
     },
     "execution_count": 33,
     "metadata": {},
     "output_type": "execute_result"
    }
   ],
   "source": [
    "labellers"
   ]
  },
  {
   "cell_type": "code",
   "execution_count": 19,
   "id": "af5a3664",
   "metadata": {},
   "outputs": [
    {
     "name": "stdout",
     "output_type": "stream",
     "text": [
      "Hakim has been added\n",
      "dog added to station  Capta\n",
      "Capta added to labeller  Hakim\n"
     ]
    }
   ],
   "source": [
    "e = Event(\"dog\")\n",
    "s = Station(\"Capta\")\n",
    "l = Labeller(\"Hakim\")\n",
    "\n",
    "s.add_event(e)\n",
    "\n",
    "l.add_station(s)\n",
    "\n"
   ]
  },
  {
   "cell_type": "code",
   "execution_count": null,
   "id": "8a92b417",
   "metadata": {},
   "outputs": [],
   "source": []
  }
 ],
 "metadata": {
  "kernelspec": {
   "display_name": "Python 3 (ipykernel)",
   "language": "python",
   "name": "python3"
  },
  "language_info": {
   "codemirror_mode": {
    "name": "ipython",
    "version": 3
   },
   "file_extension": ".py",
   "mimetype": "text/x-python",
   "name": "python",
   "nbconvert_exporter": "python",
   "pygments_lexer": "ipython3",
   "version": "3.9.12"
  }
 },
 "nbformat": 4,
 "nbformat_minor": 5
}
