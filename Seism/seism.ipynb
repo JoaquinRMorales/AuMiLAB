{
 "cells": [
  {
   "cell_type": "code",
   "execution_count": 1,
   "id": "41cd3a13",
   "metadata": {},
   "outputs": [],
   "source": [
    "import numpy as np\n",
    "import pandas as pd\n",
    "import math\n",
    "import matplotlib.pyplot as plt\n",
    "import geopandas as gpd\n",
    "import folium\n",
    "import folium.plugins"
   ]
  },
  {
   "cell_type": "code",
   "execution_count": 62,
   "id": "d681ff71",
   "metadata": {
    "scrolled": true
   },
   "outputs": [],
   "source": [
    "def _pick_reader(fil_dir):\n",
    "    \n",
    "    f = fil_dir.split(\".\")\n",
    "    \n",
    "    print(f)\n",
    "          \n",
    "    if(fil_dir.split('.')[1]==\"shp\"):\n",
    "        gdf = gpd.read_file(fil_dir)\n",
    "        geo_columns = [\n",
    "        \"F_id\",\n",
    "        \"F_system\",        \n",
    "        \"F_name\",\n",
    "        \"strike\",\n",
    "        \"length_km\",\n",
    "        \"lat\",\n",
    "        \"long\",\n",
    "        \"type\",\n",
    "        \"activity\",\n",
    "        \"geometry\"\n",
    "        ]\n",
    "        for col in gdf.columns:\n",
    "            if (col not in geo_columns):\n",
    "                gdf.pop(col)\n",
    "\n",
    "        gdf[\"radian_strike\"] = gdf[\"strike\"].astype(float).apply(math.radians)\n",
    "        gdf[\"sin_strike\"] = gdf[\"radian_strike\"].apply(math.sin)\n",
    "        \n",
    "        \n",
    "        \n",
    "        return gdf\n",
    "    \n",
    "    elif(fil_dir.split('.')[1]==\"csv\"):\n",
    "        \n",
    "        df = pd.read_csv(fil_dir)\n",
    "        gdf = gpd.GeoDataFrame(df, geometry = gpd.points_from_xy(df.LON, df.LAT), crs=\"4710\")\n",
    "        \n",
    "        geopath = gdf.geometry.to_json()\n",
    "        poligons = folium.features.GeoJson(geopath)\n",
    "        \n",
    "        return poligons\n",
    "    \n",
    "    print(\"non finded apropiated extension\")\n",
    "    \n",
    "\n",
    "#Maldonado, V., Contreras, M., & Melnick, D. (2021).\n",
    "#A comprehensive database of activeand potentially-active continental faults in Chile at 1: 25,000 scale.\n",
    "#Scientific data, 8(1), 1-13.\n",
    "chaf = \"Z:/Proyectos/Faults/CHAF_2020_allfiles/CHAF_Pangaea_v1/CHAF_Pangea_v1.shp\"\n",
    "\n",
    "\n",
    "#Rafael seism picks\n",
    "seism_picks = \"seismic_data_regression_uch_ufro_uach-main/pickeos_Rafa_180_360_formato.csv\""
   ]
  },
  {
   "cell_type": "code",
   "execution_count": null,
   "id": "ae7ea6e0",
   "metadata": {},
   "outputs": [],
   "source": []
  }
 ],
 "metadata": {
  "kernelspec": {
   "display_name": "Python (seism)",
   "language": "python",
   "name": "seism"
  },
  "language_info": {
   "codemirror_mode": {
    "name": "ipython",
    "version": 3
   },
   "file_extension": ".py",
   "mimetype": "text/x-python",
   "name": "python",
   "nbconvert_exporter": "python",
   "pygments_lexer": "ipython3",
   "version": "3.8.13"
  }
 },
 "nbformat": 4,
 "nbformat_minor": 5
}
